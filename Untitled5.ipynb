{
 "cells": [
  {
   "cell_type": "code",
   "execution_count": 10,
   "id": "82ede56c-47d1-4176-93df-0f14b760ce88",
   "metadata": {
    "scrolled": true
   },
   "outputs": [
    {
     "name": "stdout",
     "output_type": "stream",
     "text": [
      "Python 3.12.4 | packaged by Anaconda, Inc. | (main, Jun 18 2024, 15:03:56) [MSC v.1929 64 bit (AMD64)]\n",
      "Pandas 2.2.3\n",
      "Numpy 1.26.4\n",
      "Scikit-Learn 1.5.2\n",
      "\n",
      "Tensor Flow Version: 2.17.0\n",
      "Keras Version: 3.5.0\n"
     ]
    }
   ],
   "source": [
    "import tensorflow as tf\n",
    "import numpy as np\n",
    "import sys\n",
    "import sklearn as sk\n",
    "import pandas as pd\n",
    "print(\"Python {}\".format(sys.version))\n",
    "print('Pandas {}'.format(pd.__version__))\n",
    "print('Numpy {}'.format(np.__version__))\n",
    "print('Scikit-Learn {}'.format(sk.__version__))\n",
    "print()\n",
    "print(\"Tensor Flow Version: {}\".format(tf.__version__))\n",
    "print(\"Keras Version: {}\".format(tf.keras.__version__))\n"
   ]
  },
  {
   "cell_type": "code",
   "execution_count": null,
   "id": "7fc0936b-0c21-4850-a968-652bfb2f0dc8",
   "metadata": {},
   "outputs": [],
   "source": []
  }
 ],
 "metadata": {
  "kernelspec": {
   "display_name": "Python (tf_env)",
   "language": "python",
   "name": "tf_env"
  },
  "language_info": {
   "codemirror_mode": {
    "name": "ipython",
    "version": 3
   },
   "file_extension": ".py",
   "mimetype": "text/x-python",
   "name": "python",
   "nbconvert_exporter": "python",
   "pygments_lexer": "ipython3",
   "version": "3.12.4"
  }
 },
 "nbformat": 4,
 "nbformat_minor": 5
}
